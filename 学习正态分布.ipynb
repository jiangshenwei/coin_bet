{
 "cells": [
  {
   "cell_type": "markdown",
   "metadata": {},
   "source": [
    "**准备工作：依次点击每个代码框右侧的播放按钮，逐步运行代码。**"
   ]
  },
  {
   "cell_type": "code",
   "execution_count": 1,
   "metadata": {},
   "outputs": [
    {
     "name": "stdout",
     "output_type": "stream",
     "text": [
      "Looking in indexes: https://pypi.tuna.tsinghua.edu.cn/simple\n",
      "Requirement already satisfied: matplotlib in c:\\users\\jiang\\appdata\\local\\programs\\python\\python39\\lib\\site-packages (3.4.3)\n",
      "Requirement already satisfied: cycler>=0.10 in c:\\users\\jiang\\appdata\\local\\programs\\python\\python39\\lib\\site-packages (from matplotlib) (0.10.0)\n",
      "Requirement already satisfied: kiwisolver>=1.0.1 in c:\\users\\jiang\\appdata\\local\\programs\\python\\python39\\lib\\site-packages (from matplotlib) (1.3.2)\n",
      "Requirement already satisfied: numpy>=1.16 in c:\\users\\jiang\\appdata\\local\\programs\\python\\python39\\lib\\site-packages (from matplotlib) (1.21.2)\n",
      "Requirement already satisfied: pillow>=6.2.0 in c:\\users\\jiang\\appdata\\local\\programs\\python\\python39\\lib\\site-packages (from matplotlib) (8.3.2)\n",
      "Requirement already satisfied: pyparsing>=2.2.1 in c:\\users\\jiang\\appdata\\local\\programs\\python\\python39\\lib\\site-packages (from matplotlib) (2.4.7)\n",
      "Requirement already satisfied: python-dateutil>=2.7 in c:\\users\\jiang\\appdata\\local\\programs\\python\\python39\\lib\\site-packages (from matplotlib) (2.8.2)\n",
      "Requirement already satisfied: six in c:\\users\\jiang\\appdata\\local\\programs\\python\\python39\\lib\\site-packages (from cycler>=0.10->matplotlib) (1.16.0)\n",
      "Could not fetch URL https://pypi.tuna.tsinghua.edu.cn/simple/pip/: There was a problem confirming the ssl certificate: HTTPSConnectionPool(host='pypi.tuna.tsinghua.edu.cn', port=443): Max retries exceeded with url: /simple/pip/ (Caused by SSLError(SSLEOFError(8, 'EOF occurred in violation of protocol (_ssl.c:1129)'))) - skipping\n",
      "Looking in indexes: https://pypi.tuna.tsinghua.edu.cn/simple\n",
      "Requirement already satisfied: scipy in c:\\users\\jiang\\appdata\\local\\programs\\python\\python39\\lib\\site-packages (1.7.1)\n",
      "Requirement already satisfied: numpy<1.23.0,>=1.16.5 in c:\\users\\jiang\\appdata\\local\\programs\\python\\python39\\lib\\site-packages (from scipy) (1.21.2)\n",
      "Could not fetch URL https://pypi.tuna.tsinghua.edu.cn/simple/pip/: There was a problem confirming the ssl certificate: HTTPSConnectionPool(host='pypi.tuna.tsinghua.edu.cn', port=443): Max retries exceeded with url: /simple/pip/ (Caused by SSLError(SSLEOFError(8, 'EOF occurred in violation of protocol (_ssl.c:1129)'))) - skipping\n"
     ]
    }
   ],
   "source": [
    "!pip install matplotlib\n",
    "!pip install scipy\n",
    "\n",
    "import random\n",
    "from collections import Counter\n",
    "from statistics import stdev\n",
    "\n",
    "def toss_coin():\n",
    "    # 随机生成一个0或1\n",
    "    # 如果生成的数字是0，代表“反面”，否则代表“正面”\n",
    "    result = random.choice(['正面', '反面'])\n",
    "    return result\n",
    "\n",
    "def toss_coin_multiple_times(n):\n",
    "    \"\"\"\n",
    "    连续掷硬币n次，并返回“正面”出现的次数。\n",
    "    \n",
    "    参数:\n",
    "    n -- 掷硬币的次数\n",
    "    \n",
    "    返回值:\n",
    "    heads_count -- “正面”出现的次数\n",
    "    \"\"\"\n",
    "    # 初始化正面出现的次数\n",
    "    heads_count = 0\n",
    "\n",
    "    # 连续掷n次硬币\n",
    "    for _ in range(n):\n",
    "        # 掷一次硬币并获取结果\n",
    "        result = toss_coin()\n",
    "        # 如果结果是“正面”，则增加正面出现的次数\n",
    "        if result == '正面':\n",
    "            heads_count += 1\n",
    "\n",
    "    return heads_count\n",
    "\n",
    "def simulate_coin_tosses(tosses_per_trial, trials):\n",
    "    \"\"\"\n",
    "    模拟掷硬币n次的游戏，并进行trials次试验，统计每种正面出现次数的概率。\n",
    "    \n",
    "    参数:\n",
    "    n -- 每次试验中掷硬币的次数\n",
    "    tosses_per_trial -- 每次试验掷硬币的次数\n",
    "    trials -- 试验的总次数\n",
    "    \n",
    "    返回值:\n",
    "    probabilities -- 一个包含每种正面出现次数概率的字典\n",
    "    \"\"\"\n",
    "    # 初始化一个Counter对象来记录每种正面次数的出现情况\n",
    "    counts = Counter()\n",
    "\n",
    "    # 进行trials次试验\n",
    "    for _ in range(trials):\n",
    "        # 掷硬币tosses_per_trial次，并记录正面出现的次数\n",
    "        coin_tosses = [toss_coin() for _ in range(tosses_per_trial)]\n",
    "        heads_count = sum(1 for toss in coin_tosses if toss == '正面')\n",
    "        # 更新记录\n",
    "        counts[heads_count] += 1\n",
    "\n",
    "    # 计算每种正面次数的概率\n",
    "    probabilities = {k: v / trials for k, v in counts.items()}\n",
    "    return probabilities\n",
    "\n",
    "def calculate_stddev_from_probabilities(probabilities,trials):\n",
    "    \"\"\"\n",
    "    使用给定的概率分布计算正面出现次数的标准差。\n",
    "    \n",
    "    参数:\n",
    "    probabilities -- 一个包含每种正面出现次数概率的字典\n",
    "    \n",
    "    返回值:\n",
    "    stddev -- 正面次数的标准差\n",
    "    \"\"\"\n",
    "    # 提取正面出现次数和对应的概率\n",
    "    heads_counts, probabilities_list = zip(*probabilities.items())\n",
    "    # 计算均值\n",
    "    mean = sum([count * prob for count, prob in zip(heads_counts, probabilities_list)])\n",
    "    # 计算方差\n",
    "    variance = 0\n",
    "    for heads_count, probability in sorted(probabilities.items()):\n",
    "        variance = variance + (heads_count-mean)**2 * probability\n",
    "    # 计算标准差\n",
    "    stddev = variance ** 0.5\n",
    "    return mean,stddev"
   ]
  },
  {
   "cell_type": "markdown",
   "metadata": {},
   "source": [
    "**第一步. 掷硬币游戏**"
   ]
  },
  {
   "cell_type": "code",
   "execution_count": 2,
   "metadata": {},
   "outputs": [
    {
     "name": "stdout",
     "output_type": "stream",
     "text": [
      "反面\n"
     ]
    }
   ],
   "source": [
    "print(toss_coin())"
   ]
  },
  {
   "cell_type": "markdown",
   "metadata": {},
   "source": [
    "**第二步.掷好多次硬币，看看出现多少次“正面”**"
   ]
  },
  {
   "cell_type": "code",
   "execution_count": 4,
   "metadata": {},
   "outputs": [
    {
     "name": "stdout",
     "output_type": "stream",
     "text": [
      "掷硬币7次，'正面'出现了5次。\n"
     ]
    }
   ],
   "source": [
    "# 调用函数，掷7次硬币，并打印“正面”出现的次数\n",
    "n = 7\n",
    "heads_count = toss_coin_multiple_times(n)\n",
    "print(f\"掷硬币{n}次，'正面'出现了{heads_count}次。\")"
   ]
  },
  {
   "cell_type": "markdown",
   "metadata": {},
   "source": [
    "**第三步.构建一个“永不关门的赌场”，不停的赌，堵上10万次**"
   ]
  },
  {
   "cell_type": "code",
   "execution_count": 7,
   "metadata": {},
   "outputs": [
    {
     "name": "stdout",
     "output_type": "stream",
     "text": [
      "出现0次正面的次数是：77874，概率是: 0.0078\n",
      "出现1次正面的次数是：547841，概率是: 0.0548\n",
      "出现2次正面的次数是：1639706，概率是: 0.1640\n",
      "出现3次正面的次数是：2732043，概率是: 0.2732\n",
      "出现4次正面的次数是：2735365，概率是: 0.2735\n",
      "出现5次正面的次数是：1642043，概率是: 0.1642\n",
      "出现6次正面的次数是：547086，概率是: 0.0547\n",
      "出现7次正面的次数是：78042，概率是: 0.0078\n"
     ]
    }
   ],
   "source": [
    "# 设置参数\n",
    "trials = 10000000  # 试验的总次数\n",
    "\n",
    "# 调用函数进行模拟\n",
    "probabilities = simulate_coin_tosses(n, trials)\n",
    "# 打印结果\n",
    "for heads_count, probability in sorted(probabilities.items()):\n",
    "    print(f\"出现{heads_count}次正面的次数是：{probability*trials:.0f}，概率是: {probability:.4f}\")"
   ]
  },
  {
   "cell_type": "markdown",
   "metadata": {},
   "source": [
    "**第四步.做一些统计**"
   ]
  },
  {
   "cell_type": "code",
   "execution_count": 23,
   "metadata": {},
   "outputs": [
    {
     "name": "stdout",
     "output_type": "stream",
     "text": [
      "掷出正面次数的平均值是: 3.51,掷出正面次数的标准差是: 1.38\n"
     ]
    }
   ],
   "source": [
    "# 计算标准差\n",
    "heads_mean,heads_stddev = calculate_stddev_from_probabilities(probabilities,trials)\n",
    "\n",
    "# 打印结果\n",
    "print(f\"掷出正面次数的平均值是: {heads_mean:.2f},掷出正面次数的标准差是: {heads_stddev:.2f}\")"
   ]
  },
  {
   "cell_type": "markdown",
   "metadata": {},
   "source": [
    "**看看概率各正面次数出现的概率分布**"
   ]
  },
  {
   "cell_type": "code",
   "execution_count": 24,
   "metadata": {},
   "outputs": [
    {
     "data": {
      "image/png": "[encoded data removed]",
      "text/plain": [
       "<Figure size 1000x600 with 1 Axes>"
      ]
     },
     "metadata": {},
     "output_type": "display_data"
    }
   ],
   "source": [
    "import matplotlib.pyplot as plt\n",
    "from scipy.stats import norm\n",
    "import numpy as np\n",
    "\n",
    "# 提取正面出现次数\n",
    "heads_counts = list(probabilities.keys())\n",
    "# 提取概率\n",
    "probabilities_list = list(probabilities.values())\n",
    "\n",
    "# 将概率转换为频率\n",
    "frequencies = [prob * trials for prob in probabilities_list]\n",
    "\n",
    "# 生成正态分布数据点\n",
    "x = np.linspace(min(heads_counts), max(heads_counts), trials)\n",
    "pdf = norm.pdf(x, heads_mean, heads_stddev)\n",
    "\n",
    "# 绘制直方图\n",
    "plt.figure(figsize=(10, 6))\n",
    "bars = plt.bar(heads_counts, probabilities_list, color='skyblue', edgecolor='black')\n",
    "# 在同一图上绘制正态分布PDF曲线\n",
    "plt.plot(x, pdf, 'k--', linewidth=2, label='Normal PDF')\n",
    "\n",
    "plt.title('probability density function')  # 设置图形的标题\n",
    "plt.xlabel('heads counts')  # 设置x轴的标签\n",
    "plt.ylabel('frequency')  # 设置y轴的标签\n",
    "plt.xticks(heads_counts)\n",
    "plt.grid(axis='y', linestyle='--', alpha=0.7)\n",
    "plt.legend()\n",
    "plt.show()"
   ]
  },
  {
   "cell_type": "markdown",
   "metadata": {},
   "source": [
    "**第五步.来赌博吧！**\n",
    "\n",
    "用户（闲家）可以对正面向上的次数进行下注（即0次至7次），每注需要花费1元；\n",
    "\n",
    "如果**硬币正面向上的次数<=闲家下注的次数**，则闲家赢，**庄家需按照赔率表支付闲家**；反之，则庄家赢，**下注金额不返还**。\n",
    "\n",
    "举例：闲家如下注3次正面，下1注，支付1元。若最终结果为0次、1次、2次、3次这四种情况，则闲家赢。根据赔率表，下注3次正面的赔率为2，则庄家向闲家每注返还2元。因此这场游戏闲家共计赢得1元。"
   ]
  },
  {
   "cell_type": "code",
   "execution_count": 33,
   "metadata": {},
   "outputs": [
    {
     "name": "stdout",
     "output_type": "stream",
     "text": [
      "欢迎来到掷硬币小游戏！\n",
      "你可以对正面向上的次数进行下注（0-7次）。\n",
      "每次下注需要花费1元。\n",
      "下注完成，您对4次正面下注了1000元\n",
      "您总共赚了-20.00元\n"
     ]
    }
   ],
   "source": [
    "game_cost = 1  # 每注的成本\n",
    "possible_bets = list(range(n+1))  # 所有可能的下注选项：0次至7次正面\n",
    "\n",
    "# 用户输入下注\n",
    "print(\"欢迎来到掷硬币小游戏！\")\n",
    "print(\"你可以对正面向上的次数进行下注（0-7次）。\")\n",
    "print(\"每次下注需要花费1元。\")\n",
    "bet = int(input(\"您对下注几次正面？请输入：\"))\n",
    "game_trials = int(input(\"您想玩几次？请输入：\"))\n",
    "all_spend = game_trials\n",
    "print(f\"下注完成，您对{bet}次正面下注了{all_spend}元\")\n",
    "# 调用函数进行模拟\n",
    "probabilities = simulate_coin_tosses(n, game_trials)\n",
    "\n",
    "odds = [125,15,4,2,1.25,1.1,1.01,1]\n",
    "pro = 0\n",
    "return_all = 0\n",
    "for heads_count, probability in sorted(probabilities.items()):\n",
    "    pro = pro + probability\n",
    "    if bet == heads_count:\n",
    "        fre = int(round(pro*game_trials,0))\n",
    "        return_money = odds[heads_count] * fre\n",
    "        return_all = return_all + return_money\n",
    "\n",
    "print(\"您总共赚了{:.2f}元\".format(return_all - all_spend))\n"
   ]
  },
  {
   "cell_type": "markdown",
   "metadata": {},
   "source": [
    "**第六步.你来做庄！**\n",
    "\n",
    "如果你是庄家，你会如何设置赔率？"
   ]
  },
  {
   "cell_type": "code",
   "execution_count": 12,
   "metadata": {},
   "outputs": [
    {
     "name": "stdout",
     "output_type": "stream",
     "text": [
      "欢迎进入游戏后台\n",
      "你可以对正面向上的次数（0-7次）的赔率进行调整。\n",
      "赔率设置完成，接下来将进行10万次模拟测试\n",
      "如果闲家押注0次，玩100000局可以赚-375.00元\n",
      "如果闲家押注1次，玩100000局可以赚583.40元\n",
      "如果闲家押注2次，玩100000局可以赚-150.80元\n",
      "如果闲家押注3次，玩100000局可以赚-1003.96元\n",
      "如果闲家押注4次，玩100000局可以赚-1190.40元\n",
      "如果闲家押注5次，玩100000局可以赚-705.56元\n",
      "如果闲家押注6次，玩100000局可以赚-112.65元\n",
      "如果闲家押注7次，玩100000局可以赚0.00元\n"
     ]
    }
   ],
   "source": [
    "game_cost = 1  # 每注的成本\n",
    "possible_bets = list(range(n+1))  # 所有可能的下注选项：0次至7次正面\n",
    "\n",
    "# 用户输入下注\n",
    "print(\"欢迎进入游戏后台\")\n",
    "print(\"你可以对正面向上的次数（0-7次）的赔率进行调整。\")\n",
    "odds = [125,15,4,2,1.25,1.1,1.01,1]\n",
    "for i in range(len(possible_bets)):\n",
    "    odds[i] = float(input(f\"您对{i}次正面设置的赔率是？请输入：\"))\n",
    "print(f\"赔率设置完成，接下来将进行10万次模拟测试\")\n",
    "game_trials = 100000\n",
    "all_spend = game_trials\n",
    "\n",
    "# 调用函数进行模拟\n",
    "probabilities = simulate_coin_tosses(n, game_trials)\n",
    "for bet in possible_bets:\n",
    "    pro = 0\n",
    "    return_all = 0\n",
    "    for heads_count, probability in sorted(probabilities.items()):\n",
    "        pro = pro + probability\n",
    "        if bet == heads_count:\n",
    "            fre = int(round(pro*game_trials,0))\n",
    "            return_money = odds[heads_count] * fre\n",
    "            return_all = return_all + return_money\n",
    "\n",
    "    print(\"如果闲家押注{}次，玩{}局可以赚{:.2f}元\".format(bet,game_trials,return_all - all_spend))"
   ]
  },
  {
   "cell_type": "markdown",
   "metadata": {},
   "source": [
    "庄闲公平的赔率应当是：\n",
    "| 次数 | 赔率          |\n",
    "|----|-------------|\n",
    "| 0  | 128.2 |\n",
    "| 1  | 15.97 |\n",
    "| 2  | 4.41 |\n",
    "| 3  | 2.00  |\n",
    "| 4  | 1.293 |\n",
    "| 5  | 1.0667 |\n",
    "| 6  | 1.00786 |\n",
    "| 7  | 1      |"
   ]
  }
 ],
 "metadata": {
  "kernelspec": {
   "display_name": "Python 3",
   "language": "python",
   "name": "python3"
  },
  "language_info": {
   "codemirror_mode": {
    "name": "ipython",
    "version": 3
   },
   "file_extension": ".py",
   "mimetype": "text/x-python",
   "name": "python",
   "nbconvert_exporter": "python",
   "pygments_lexer": "ipython3",
   "version": "3.9.7"
  }
 },
 "nbformat": 4,
 "nbformat_minor": 2
}
